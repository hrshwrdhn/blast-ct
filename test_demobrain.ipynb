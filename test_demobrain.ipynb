{
  "nbformat": 4,
  "nbformat_minor": 0,
  "metadata": {
    "colab": {
      "name": "test_demobrain",
      "provenance": [],
      "mount_file_id": "1Ddeqt8wt7vy9pVJ3pvuEfHnThIRpuZUX",
      "authorship_tag": "ABX9TyO8j4S3D4JFZTt4NmVtvUQN",
      "include_colab_link": true
    },
    "kernelspec": {
      "name": "python3",
      "display_name": "Python 3"
    },
    "accelerator": "GPU"
  },
  "cells": [
    {
      "cell_type": "markdown",
      "metadata": {
        "id": "view-in-github",
        "colab_type": "text"
      },
      "source": [
        "<a href=\"https://colab.research.google.com/github/hrshwrdhn/blast-ct/blob/master/test_demobrain.ipynb\" target=\"_parent\"><img src=\"https://colab.research.google.com/assets/colab-badge.svg\" alt=\"Open In Colab\"/></a>"
      ]
    },
    {
      "cell_type": "code",
      "metadata": {
        "id": "Od9fekDiRCCG",
        "colab_type": "code",
        "colab": {
          "base_uri": "https://localhost:8080/",
          "height": 202
        },
        "outputId": "4365b917-f866-482d-b3c0-6af79380e847"
      },
      "source": [
        ""
      ],
      "execution_count": null,
      "outputs": [
        {
          "output_type": "error",
          "ename": "OSError",
          "evalue": "ignored",
          "traceback": [
            "\u001b[0;31m---------------------------------------------------------------------------\u001b[0m",
            "\u001b[0;31mOSError\u001b[0m                                   Traceback (most recent call last)",
            "\u001b[0;32m<ipython-input-15-6a23908f9046>\u001b[0m in \u001b[0;36m<module>\u001b[0;34m()\u001b[0m\n\u001b[1;32m      1\u001b[0m \u001b[0;32mimport\u001b[0m \u001b[0mos\u001b[0m\u001b[0;34m\u001b[0m\u001b[0;34m\u001b[0m\u001b[0m\n\u001b[0;32m----> 2\u001b[0;31m \u001b[0mos\u001b[0m\u001b[0;34m.\u001b[0m\u001b[0mchdir\u001b[0m\u001b[0;34m(\u001b[0m\u001b[0;34m'/content/drive/My Drive/sandlogic/project_seg/blast_ct'\u001b[0m\u001b[0;34m)\u001b[0m\u001b[0;34m\u001b[0m\u001b[0;34m\u001b[0m\u001b[0m\n\u001b[0m",
            "\u001b[0;31mOSError\u001b[0m: [Errno 107] Transport endpoint is not connected: '/content/drive/My Drive/sandlogic/project_seg/blast_ct'"
          ]
        }
      ]
    },
    {
      "cell_type": "code",
      "metadata": {
        "id": "7vUzhIQaVQv5",
        "colab_type": "code",
        "colab": {
          "base_uri": "https://localhost:8080/",
          "height": 34
        },
        "outputId": "f9556af9-18b3-4973-f235-db05234fd9f0"
      },
      "source": [
        "\n",
        "from google.colab import drive\n",
        "\n",
        "drive.mount('/content/gdrive')\n"
      ],
      "execution_count": 2,
      "outputs": [
        {
          "output_type": "stream",
          "text": [
            "Mounted at /content/gdrive\n"
          ],
          "name": "stdout"
        }
      ]
    },
    {
      "cell_type": "code",
      "metadata": {
        "id": "-8iUOVv6WPlJ",
        "colab_type": "code",
        "colab": {}
      },
      "source": [
        "root_path = '/content/gdrive/My Drive/sandlogic/blast_ct'  #change dir to your project folder"
      ],
      "execution_count": 9,
      "outputs": []
    },
    {
      "cell_type": "code",
      "metadata": {
        "id": "dMLOszBMU9FM",
        "colab_type": "code",
        "colab": {}
      },
      "source": [
        "os.chdir('/content/gdrive/My Drive/sandlogic/blast_ct')\n"
      ],
      "execution_count": 12,
      "outputs": []
    },
    {
      "cell_type": "code",
      "metadata": {
        "id": "UIYoz4Urmshu",
        "colab_type": "code",
        "colab": {
          "base_uri": "https://localhost:8080/",
          "height": 86
        },
        "outputId": "eaa811c3-ca2c-40c3-e158-9fb5dd142690"
      },
      "source": [
        "!ls"
      ],
      "execution_count": 13,
      "outputs": [
        {
          "output_type": "stream",
          "text": [
            "blast-ct-example  inference.py\t     nifti\t     scan_0_image.nii.gz\n",
            "console_tool.py   __init__.py\t     __pycache__     trainer\n",
            "data\t\t  models\t     read_config.py  train.py\n",
            "demo.py\t\t  my-inference-job2  run_hws.py\n"
          ],
          "name": "stdout"
        }
      ]
    },
    {
      "cell_type": "code",
      "metadata": {
        "id": "vbxzO-A4nI4V",
        "colab_type": "code",
        "colab": {
          "base_uri": "https://localhost:8080/",
          "height": 124
        },
        "outputId": "ae5c3dea-ab62-4528-aecb-7d763b1755f8"
      },
      "source": [
        "pip install SimpleITK"
      ],
      "execution_count": 15,
      "outputs": [
        {
          "output_type": "stream",
          "text": [
            "Collecting SimpleITK\n",
            "\u001b[?25l  Downloading https://files.pythonhosted.org/packages/f8/d8/53338c34f71020725ffb3557846c80af96c29c03bc883551a2565aa68a7c/SimpleITK-1.2.4-cp36-cp36m-manylinux1_x86_64.whl (42.5MB)\n",
            "\u001b[K     |████████████████████████████████| 42.5MB 71kB/s \n",
            "\u001b[?25hInstalling collected packages: SimpleITK\n",
            "Successfully installed SimpleITK-1.2.4\n"
          ],
          "name": "stdout"
        }
      ]
    },
    {
      "cell_type": "code",
      "metadata": {
        "id": "AEQFyaDfRclu",
        "colab_type": "code",
        "colab": {
          "base_uri": "https://localhost:8080/",
          "height": 193
        },
        "outputId": "fe37c4ff-e448-48b4-a132-877dc3d5676d"
      },
      "source": [
        "import os\n",
        "\n",
        "from demo import brainSeg\n",
        "\n",
        "\n",
        "job_dir = 'my-inference-job2'\n",
        "test_csv_path = 'data/data_mini.csv'\n",
        "config_file = 'data/config.json'\n",
        "device = 0\n",
        "\n",
        "#install_dir = os.path.dirname(os.path.realpath(__file__))  #install directory\n",
        "install_dir = os.getcwd()\n",
        "#saved_model_paths = [os.path.join(install_dir, f'data/saved_models/model_{i:d}.pt') for i in range(1, 13)]\n",
        "saved_model_paths=\"data/saved_models/model_1.pt data/saved_models/model_2.pt\"\n",
        "write_prob_maps = False # type=bool, help='Whether to write probability maps images to disk')\n",
        "overwrite = 'true'\n",
        "brainSeg.run_inference(job_dir, test_csv_path, config_file,saved_model_paths, device,write_prob_maps, overwrite)"
      ],
      "execution_count": 17,
      "outputs": [
        {
          "output_type": "stream",
          "text": [
            "Run already exists, overwriting...\n"
          ],
          "name": "stdout"
        },
        {
          "output_type": "stream",
          "text": [
            "/content/gdrive/My Drive/sandlogic/blast_ct/nifti/datasets.py:122: UserWarning: The given NumPy array is not writeable, and PyTorch does not support non-writeable tensors. This means you can write to the underlying (supposedly non-writeable) NumPy array using the tensor. You may want to copy the array to protect its data or make it writeable before converting it to a tensor. This type of warning will be suppressed for the rest of this program. (Triggered internally at  /pytorch/torch/csrc/utils/tensor_numpy.cpp:141.)\n",
            "  target = torch.tensor(target, dtype=target_type) if target is not None else nan_tensor\n",
            "---------------------------------------------------------------------------my-inference-job2: 2020-09-15 07:16:31,791---------------------------------------------------------------------------\n",
            "1/1: Saved prediction for scan_0.\n",
            "\n",
            "---------------------------------------------------------------------------my-inference-job2: 2020-09-15 07:16:31,827---------------------------------------------------------------------------\n",
            "Inference completed in 0h 0m 14s\n",
            "\n"
          ],
          "name": "stderr"
        }
      ]
    },
    {
      "cell_type": "code",
      "metadata": {
        "id": "bU0_Pt4cSYTU",
        "colab_type": "code",
        "colab": {
          "base_uri": "https://localhost:8080/",
          "height": 139
        },
        "outputId": "ccf080d2-e2de-4c4f-a396-16ccab2cb016"
      },
      "source": [
        "!ls\n"
      ],
      "execution_count": null,
      "outputs": [
        {
          "output_type": "stream",
          "text": [
            "blast-ct-example  my-inference-job   run_single_inference.py\n",
            "console_tool.py   my-inference-job1  scan_0_image.nii.gz\n",
            "data\t\t  my-inference-job2  test.py\n",
            "demo.py\t\t  nifti\t\t     trainer\n",
            "inference.py\t  __pycache__\t     train.py\n",
            "__init__.py\t  read_config.py\n",
            "models\t\t  run_hws.py\n"
          ],
          "name": "stdout"
        }
      ]
    },
    {
      "cell_type": "code",
      "metadata": {
        "id": "85n6viLjUvxE",
        "colab_type": "code",
        "colab": {}
      },
      "source": [
        ""
      ],
      "execution_count": null,
      "outputs": []
    }
  ]
}