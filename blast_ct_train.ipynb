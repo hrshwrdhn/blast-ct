{
  "nbformat": 4,
  "nbformat_minor": 0,
  "metadata": {
    "colab": {
      "name": "blast_ct_train",
      "provenance": [],
      "authorship_tag": "ABX9TyM8grtJXQzOVMeZ3hnP3itp",
      "include_colab_link": true
    },
    "kernelspec": {
      "name": "python3",
      "display_name": "Python 3"
    },
    "accelerator": "GPU"
  },
  "cells": [
    {
      "cell_type": "markdown",
      "metadata": {
        "id": "view-in-github",
        "colab_type": "text"
      },
      "source": [
        "<a href=\"https://colab.research.google.com/github/hrshwrdhn/blast-ct/blob/master/blast_ct_train.ipynb\" target=\"_parent\"><img src=\"https://colab.research.google.com/assets/colab-badge.svg\" alt=\"Open In Colab\"/></a>"
      ]
    },
    {
      "cell_type": "code",
      "metadata": {
        "id": "WuHlUk5uuFt2",
        "colab_type": "code",
        "colab": {
          "base_uri": "https://localhost:8080/",
          "height": 819
        },
        "outputId": "2570cbea-bac1-404b-cca4-43166e4b4f97"
      },
      "source": [
        "!pip install git+https://github.com/biomedia-mira/blast-ct.git"
      ],
      "execution_count": 1,
      "outputs": [
        {
          "output_type": "stream",
          "text": [
            "Collecting git+https://github.com/biomedia-mira/blast-ct.git\n",
            "  Cloning https://github.com/biomedia-mira/blast-ct.git to /tmp/pip-req-build-b_xkejw4\n",
            "  Running command git clone -q https://github.com/biomedia-mira/blast-ct.git /tmp/pip-req-build-b_xkejw4\n",
            "Requirement already satisfied: scipy in /usr/local/lib/python3.6/dist-packages (from blast-ct==0.1.1) (1.4.1)\n",
            "Requirement already satisfied: numpy in /usr/local/lib/python3.6/dist-packages (from blast-ct==0.1.1) (1.18.5)\n",
            "Requirement already satisfied: pandas in /usr/local/lib/python3.6/dist-packages (from blast-ct==0.1.1) (1.0.5)\n",
            "Collecting SimpleITK\n",
            "\u001b[?25l  Downloading https://files.pythonhosted.org/packages/f8/d8/53338c34f71020725ffb3557846c80af96c29c03bc883551a2565aa68a7c/SimpleITK-1.2.4-cp36-cp36m-manylinux1_x86_64.whl (42.5MB)\n",
            "\u001b[K     |████████████████████████████████| 42.5MB 62kB/s \n",
            "\u001b[?25hRequirement already satisfied: torch in /usr/local/lib/python3.6/dist-packages (from blast-ct==0.1.1) (1.6.0+cu101)\n",
            "Requirement already satisfied: tensorboard in /usr/local/lib/python3.6/dist-packages (from blast-ct==0.1.1) (2.3.0)\n",
            "Requirement already satisfied: pytz>=2017.2 in /usr/local/lib/python3.6/dist-packages (from pandas->blast-ct==0.1.1) (2018.9)\n",
            "Requirement already satisfied: python-dateutil>=2.6.1 in /usr/local/lib/python3.6/dist-packages (from pandas->blast-ct==0.1.1) (2.8.1)\n",
            "Requirement already satisfied: future in /usr/local/lib/python3.6/dist-packages (from torch->blast-ct==0.1.1) (0.16.0)\n",
            "Requirement already satisfied: six>=1.10.0 in /usr/local/lib/python3.6/dist-packages (from tensorboard->blast-ct==0.1.1) (1.15.0)\n",
            "Requirement already satisfied: wheel>=0.26; python_version >= \"3\" in /usr/local/lib/python3.6/dist-packages (from tensorboard->blast-ct==0.1.1) (0.35.1)\n",
            "Requirement already satisfied: markdown>=2.6.8 in /usr/local/lib/python3.6/dist-packages (from tensorboard->blast-ct==0.1.1) (3.2.2)\n",
            "Requirement already satisfied: google-auth<2,>=1.6.3 in /usr/local/lib/python3.6/dist-packages (from tensorboard->blast-ct==0.1.1) (1.17.2)\n",
            "Requirement already satisfied: absl-py>=0.4 in /usr/local/lib/python3.6/dist-packages (from tensorboard->blast-ct==0.1.1) (0.10.0)\n",
            "Requirement already satisfied: protobuf>=3.6.0 in /usr/local/lib/python3.6/dist-packages (from tensorboard->blast-ct==0.1.1) (3.12.4)\n",
            "Requirement already satisfied: google-auth-oauthlib<0.5,>=0.4.1 in /usr/local/lib/python3.6/dist-packages (from tensorboard->blast-ct==0.1.1) (0.4.1)\n",
            "Requirement already satisfied: tensorboard-plugin-wit>=1.6.0 in /usr/local/lib/python3.6/dist-packages (from tensorboard->blast-ct==0.1.1) (1.7.0)\n",
            "Requirement already satisfied: grpcio>=1.24.3 in /usr/local/lib/python3.6/dist-packages (from tensorboard->blast-ct==0.1.1) (1.32.0)\n",
            "Requirement already satisfied: requests<3,>=2.21.0 in /usr/local/lib/python3.6/dist-packages (from tensorboard->blast-ct==0.1.1) (2.23.0)\n",
            "Requirement already satisfied: setuptools>=41.0.0 in /usr/local/lib/python3.6/dist-packages (from tensorboard->blast-ct==0.1.1) (50.3.0)\n",
            "Requirement already satisfied: werkzeug>=0.11.15 in /usr/local/lib/python3.6/dist-packages (from tensorboard->blast-ct==0.1.1) (1.0.1)\n",
            "Requirement already satisfied: importlib-metadata; python_version < \"3.8\" in /usr/local/lib/python3.6/dist-packages (from markdown>=2.6.8->tensorboard->blast-ct==0.1.1) (1.7.0)\n",
            "Requirement already satisfied: pyasn1-modules>=0.2.1 in /usr/local/lib/python3.6/dist-packages (from google-auth<2,>=1.6.3->tensorboard->blast-ct==0.1.1) (0.2.8)\n",
            "Requirement already satisfied: cachetools<5.0,>=2.0.0 in /usr/local/lib/python3.6/dist-packages (from google-auth<2,>=1.6.3->tensorboard->blast-ct==0.1.1) (4.1.1)\n",
            "Requirement already satisfied: rsa<5,>=3.1.4; python_version >= \"3\" in /usr/local/lib/python3.6/dist-packages (from google-auth<2,>=1.6.3->tensorboard->blast-ct==0.1.1) (4.6)\n",
            "Requirement already satisfied: requests-oauthlib>=0.7.0 in /usr/local/lib/python3.6/dist-packages (from google-auth-oauthlib<0.5,>=0.4.1->tensorboard->blast-ct==0.1.1) (1.3.0)\n",
            "Requirement already satisfied: chardet<4,>=3.0.2 in /usr/local/lib/python3.6/dist-packages (from requests<3,>=2.21.0->tensorboard->blast-ct==0.1.1) (3.0.4)\n",
            "Requirement already satisfied: idna<3,>=2.5 in /usr/local/lib/python3.6/dist-packages (from requests<3,>=2.21.0->tensorboard->blast-ct==0.1.1) (2.10)\n",
            "Requirement already satisfied: certifi>=2017.4.17 in /usr/local/lib/python3.6/dist-packages (from requests<3,>=2.21.0->tensorboard->blast-ct==0.1.1) (2020.6.20)\n",
            "Requirement already satisfied: urllib3!=1.25.0,!=1.25.1,<1.26,>=1.21.1 in /usr/local/lib/python3.6/dist-packages (from requests<3,>=2.21.0->tensorboard->blast-ct==0.1.1) (1.24.3)\n",
            "Requirement already satisfied: zipp>=0.5 in /usr/local/lib/python3.6/dist-packages (from importlib-metadata; python_version < \"3.8\"->markdown>=2.6.8->tensorboard->blast-ct==0.1.1) (3.1.0)\n",
            "Requirement already satisfied: pyasn1<0.5.0,>=0.4.6 in /usr/local/lib/python3.6/dist-packages (from pyasn1-modules>=0.2.1->google-auth<2,>=1.6.3->tensorboard->blast-ct==0.1.1) (0.4.8)\n",
            "Requirement already satisfied: oauthlib>=3.0.0 in /usr/local/lib/python3.6/dist-packages (from requests-oauthlib>=0.7.0->google-auth-oauthlib<0.5,>=0.4.1->tensorboard->blast-ct==0.1.1) (3.1.0)\n",
            "Building wheels for collected packages: blast-ct\n",
            "  Building wheel for blast-ct (setup.py) ... \u001b[?25l\u001b[?25hdone\n",
            "  Created wheel for blast-ct: filename=blast_ct-0.1.1-cp36-none-any.whl size=41902655 sha256=bafc11a5cab9e3ba8051c1aed6e2fb33970955751f69056cf4415d075521944e\n",
            "  Stored in directory: /tmp/pip-ephem-wheel-cache-4bb73rro/wheels/fb/f9/01/c6954cca32376822ea70c9dd271f9bae5b55db00d8e770c94c\n",
            "Successfully built blast-ct\n",
            "Installing collected packages: SimpleITK, blast-ct\n",
            "Successfully installed SimpleITK-1.2.4 blast-ct-0.1.1\n"
          ],
          "name": "stdout"
        }
      ]
    },
    {
      "cell_type": "code",
      "metadata": {
        "id": "-QXDmqjEuTVW",
        "colab_type": "code",
        "colab": {
          "base_uri": "https://localhost:8080/",
          "height": 34
        },
        "outputId": "d3ac277b-5254-4a95-f105-d7436b876f7d"
      },
      "source": [
        "from google.colab import drive\n",
        "drive.mount('/content/drive')\n",
        "\n"
      ],
      "execution_count": 2,
      "outputs": [
        {
          "output_type": "stream",
          "text": [
            "Mounted at /content/drive\n"
          ],
          "name": "stdout"
        }
      ]
    },
    {
      "cell_type": "code",
      "metadata": {
        "id": "aS8BLNMfuvz4",
        "colab_type": "code",
        "colab": {
          "base_uri": "https://localhost:8080/",
          "height": 764
        },
        "outputId": "d850922d-f0e0-4280-89d1-ce955911bd20"
      },
      "source": [
        "!apt install subversion"
      ],
      "execution_count": 3,
      "outputs": [
        {
          "output_type": "stream",
          "text": [
            "Reading package lists... Done\n",
            "Building dependency tree       \n",
            "Reading state information... Done\n",
            "The following additional packages will be installed:\n",
            "  libapr1 libaprutil1 libserf-1-1 libsvn1\n",
            "Suggested packages:\n",
            "  db5.3-util libapache2-mod-svn subversion-tools\n",
            "The following NEW packages will be installed:\n",
            "  libapr1 libaprutil1 libserf-1-1 libsvn1 subversion\n",
            "0 upgraded, 5 newly installed, 0 to remove and 11 not upgraded.\n",
            "Need to get 2,237 kB of archives.\n",
            "After this operation, 9,910 kB of additional disk space will be used.\n",
            "Get:1 http://archive.ubuntu.com/ubuntu bionic/main amd64 libapr1 amd64 1.6.3-2 [90.9 kB]\n",
            "Get:2 http://archive.ubuntu.com/ubuntu bionic/main amd64 libaprutil1 amd64 1.6.1-2 [84.4 kB]\n",
            "Get:3 http://archive.ubuntu.com/ubuntu bionic/universe amd64 libserf-1-1 amd64 1.3.9-6 [44.4 kB]\n",
            "Get:4 http://archive.ubuntu.com/ubuntu bionic/universe amd64 libsvn1 amd64 1.9.7-4ubuntu1 [1,183 kB]\n",
            "Get:5 http://archive.ubuntu.com/ubuntu bionic/universe amd64 subversion amd64 1.9.7-4ubuntu1 [834 kB]\n",
            "Fetched 2,237 kB in 0s (19.9 MB/s)\n",
            "Selecting previously unselected package libapr1:amd64.\n",
            "(Reading database ... 144599 files and directories currently installed.)\n",
            "Preparing to unpack .../libapr1_1.6.3-2_amd64.deb ...\n",
            "Unpacking libapr1:amd64 (1.6.3-2) ...\n",
            "Selecting previously unselected package libaprutil1:amd64.\n",
            "Preparing to unpack .../libaprutil1_1.6.1-2_amd64.deb ...\n",
            "Unpacking libaprutil1:amd64 (1.6.1-2) ...\n",
            "Selecting previously unselected package libserf-1-1:amd64.\n",
            "Preparing to unpack .../libserf-1-1_1.3.9-6_amd64.deb ...\n",
            "Unpacking libserf-1-1:amd64 (1.3.9-6) ...\n",
            "Selecting previously unselected package libsvn1:amd64.\n",
            "Preparing to unpack .../libsvn1_1.9.7-4ubuntu1_amd64.deb ...\n",
            "Unpacking libsvn1:amd64 (1.9.7-4ubuntu1) ...\n",
            "Selecting previously unselected package subversion.\n",
            "Preparing to unpack .../subversion_1.9.7-4ubuntu1_amd64.deb ...\n",
            "Unpacking subversion (1.9.7-4ubuntu1) ...\n",
            "Setting up libapr1:amd64 (1.6.3-2) ...\n",
            "Setting up libaprutil1:amd64 (1.6.1-2) ...\n",
            "Setting up libserf-1-1:amd64 (1.3.9-6) ...\n",
            "Setting up libsvn1:amd64 (1.9.7-4ubuntu1) ...\n",
            "Setting up subversion (1.9.7-4ubuntu1) ...\n",
            "Processing triggers for libc-bin (2.27-3ubuntu1.2) ...\n",
            "/sbin/ldconfig.real: /usr/local/lib/python3.6/dist-packages/ideep4py/lib/libmkldnn.so.0 is not a symbolic link\n",
            "\n",
            "Processing triggers for man-db (2.8.3-2ubuntu0.1) ...\n"
          ],
          "name": "stdout"
        }
      ]
    },
    {
      "cell_type": "code",
      "metadata": {
        "id": "ijCMVf6du4oi",
        "colab_type": "code",
        "colab": {
          "base_uri": "https://localhost:8080/",
          "height": 399
        },
        "outputId": "dffb6017-7c8d-4a6d-9707-426874fa2fa4"
      },
      "source": [
        "\n",
        "\n",
        "!mkdir blast-ct-example\n",
        "%cd blast-ct-example\n",
        "!svn checkout \"https://github.com/biomedia-mira/blast-ct/trunk/blast_ct/data/\"\n",
        "\n"
      ],
      "execution_count": 4,
      "outputs": [
        {
          "output_type": "stream",
          "text": [
            "/content/blast-ct-example\n",
            "A    data/config.json\n",
            "A    data/data.csv\n",
            "A    data/saved_models\n",
            "A    data/saved_models/model_1.pt\n",
            "A    data/saved_models/model_10.pt\n",
            "A    data/saved_models/model_11.pt\n",
            "A    data/saved_models/model_12.pt\n",
            "A    data/saved_models/model_2.pt\n",
            "A    data/saved_models/model_3.pt\n",
            "A    data/saved_models/model_4.pt\n",
            "A    data/saved_models/model_5.pt\n",
            "A    data/saved_models/model_6.pt\n",
            "A    data/saved_models/model_7.pt\n",
            "A    data/saved_models/model_8.pt\n",
            "A    data/saved_models/model_9.pt\n",
            "A    data/scans\n",
            "A    data/scans/scan_0\n",
            "A    data/scans/scan_0/scan_0_image.nii.gz\n",
            "A    data/scans/scan_0/scan_0_sampling_mask.nii.gz\n",
            "A    data/scans/scan_0/scan_0_segmentation.nii.gz\n",
            "Checked out revision 59.\n"
          ],
          "name": "stdout"
        }
      ]
    },
    {
      "cell_type": "code",
      "metadata": {
        "id": "nQ8m1MOFu-au",
        "colab_type": "code",
        "colab": {
          "base_uri": "https://localhost:8080/",
          "height": 141
        },
        "outputId": "e479bc78-c171-4650-feeb-a36884c94e9e"
      },
      "source": [
        "!blast-ct-train \\\n",
        "    --job-dir my-training-job1 \\\n",
        "    --config-file data/config.json \\\n",
        "    --train-csv-path data/data.csv \\\n",
        "    --valid-csv-path data/data.csv \\\n",
        "    --num-epochs 100 \\\n",
        "    --device 0 \\\n",
        "    --random-seeds \"1\""
      ],
      "execution_count": 7,
      "outputs": [
        {
          "output_type": "stream",
          "text": [
            "Setting up configuration...\n",
            "tcmalloc: large alloc 1536000000 bytes == 0x240a0000 @  0x7f962c7d11e7 0x7f962a0e55e1 0x7f962a149c78 0x7f962a149f37 0x7f962a1e1f28 0x50a7f5 0x50cfd6 0x507f24 0x509c50 0x50a64d 0x50c1f4 0x509015 0x594b01 0x59fe1e 0x5578f8 0x50c4de 0x509918 0x50a64d 0x50c1f4 0x507f24 0x509c50 0x50a64d 0x50c1f4 0x509918 0x50a64d 0x50c1f4 0x507f24 0x509c50 0x50a64d 0x50c1f4 0x507f24\n",
            "tcmalloc: large alloc 1536000000 bytes == 0x7f978000 @  0x7f962c7d11e7 0x7f962a0e55e1 0x7f962a149c78 0x7f962a149d93 0x7f962a1fcfed 0x7f962a1fd94e 0x7f962a2002c8 0x7f962a340276 0x7f962a341d44 0x7f962a344492 0x7f962a34530e 0x5a4a0c 0x5a50d8 0x59cb00 0x510f15 0x509918 0x50a64d 0x50c1f4 0x507f24 0x509c50 0x50a64d 0x50c1f4 0x509918 0x50a64d 0x50c1f4 0x507f24 0x509c50 0x50a64d 0x50c1f4 0x507f24 0x509c50\n",
            "tcmalloc: large alloc 1536000000 bytes == 0x240a0000 @  0x7f962c7d11e7 0x7f962a0e55e1 0x7f962a149c78 0x7f962a149d93 0x7f962a19836b 0x7f962a1d7439 0x50a7f5 0x50c1f4 0x509918 0x50a64d 0x50c1f4 0x507f24 0x509c50 0x50a64d 0x50c1f4 0x509918 0x50a64d 0x50c1f4 0x507f24 0x509c50 0x50a64d 0x50c1f4 0x507f24 0x509c50 0x50a64d 0x50c1f4 0x507f24 0x509202 0x594b01 0x54a17f 0x5517c1\n",
            "tcmalloc: large alloc 1536000000 bytes == 0xdc4e0000 @  0x7f962c7d11e7 0x7f962a0e55e1 0x7f962a149c78 0x7f962a149d93 0x7f962a19836b 0x7f962a1d7439 0x50a7f5 0x50c1f4 0x509918 0x50a64d 0x50c1f4 0x507f24 0x509c50 0x50a64d 0x50c1f4 0x509918 0x50a64d 0x50c1f4 0x507f24 0x509c50 0x50a64d 0x50c1f4 0x507f24 0x509c50 0x50a64d 0x50c1f4 0x507f24 0x509202 0x594b01 0x54a17f 0x5517c1\n",
            "^C\n"
          ],
          "name": "stdout"
        }
      ]
    },
    {
      "cell_type": "code",
      "metadata": {
        "id": "-M7oTc_DvHvF",
        "colab_type": "code",
        "colab": {}
      },
      "source": [
        ""
      ],
      "execution_count": null,
      "outputs": []
    }
  ]
}